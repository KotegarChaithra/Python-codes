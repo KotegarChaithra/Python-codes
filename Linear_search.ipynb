{
 "cells": [
  {
   "cell_type": "code",
   "execution_count": 3,
   "id": "557eb048-bcd1-4a0d-82f1-0be5f503e75f",
   "metadata": {},
   "outputs": [
    {
     "name": "stdout",
     "output_type": "stream",
     "text": [
      "Found\n"
     ]
    }
   ],
   "source": [
    "def search(list,n):\n",
    "    i = 0\n",
    "    while i < len(list):\n",
    "        if list[i] == n:\n",
    "            return True\n",
    "        i = i+1\n",
    "    return False\n",
    "\n",
    "list = [5,8,4,6,9,2]\n",
    "n=9\n",
    "\n",
    "if search(list,n):\n",
    "    print(\"Found\")\n",
    "\n",
    "else:\n",
    "    print(\"Not Found\")"
   ]
  },
  {
   "cell_type": "code",
   "execution_count": 5,
   "id": "4ebae3aa-78df-4ecb-916a-91bb29c76eae",
   "metadata": {},
   "outputs": [
    {
     "name": "stdout",
     "output_type": "stream",
     "text": [
      "Not Found\n"
     ]
    }
   ],
   "source": [
    "def search(list,n):\n",
    "    i = 0\n",
    "    while i < len(list):\n",
    "        if list[i] == n:\n",
    "            return True\n",
    "        i = i+1\n",
    "    return False\n",
    "\n",
    "list = [5,8,4,6,9,2]\n",
    "n=10\n",
    "\n",
    "if search(list,n):\n",
    "    print(\"Found\")\n",
    "\n",
    "else:\n",
    "    print(\"Not Found\")"
   ]
  },
  {
   "cell_type": "markdown",
   "id": "49c9c738-1a72-4faf-8aa2-2568fc82ac13",
   "metadata": {},
   "source": [
    "If I want to know the position of element"
   ]
  },
  {
   "cell_type": "code",
   "execution_count": 8,
   "id": "f4d44fcd-5606-455c-9776-340162dd4c28",
   "metadata": {},
   "outputs": [
    {
     "name": "stdout",
     "output_type": "stream",
     "text": [
      "Found at  4\n"
     ]
    }
   ],
   "source": [
    "pos = -1\n",
    "def search(list,n):\n",
    "    i = 0\n",
    "    while i < len(list):\n",
    "        if list[i] == n:\n",
    "            globals() ['pos'] = i\n",
    "            return True\n",
    "        i = i+1\n",
    "    return False\n",
    "\n",
    "list = [5,8,4,6,9,2]\n",
    "n=9\n",
    "\n",
    "if search(list,n):\n",
    "    print(\"Found at \",pos)\n",
    "\n",
    "else:\n",
    "    print(\"Not Found\")"
   ]
  },
  {
   "cell_type": "code",
   "execution_count": 10,
   "id": "bc415489-434b-4c23-9488-c67c5b78aec8",
   "metadata": {},
   "outputs": [
    {
     "name": "stdout",
     "output_type": "stream",
     "text": [
      "Found at  5\n"
     ]
    }
   ],
   "source": [
    "pos = -1\n",
    "def search(list,n):\n",
    "    i = 0\n",
    "    while i < len(list):\n",
    "        if list[i] == n:\n",
    "            globals() ['pos'] = i\n",
    "            return True\n",
    "        i = i+1\n",
    "    return False\n",
    "\n",
    "list = [5,8,4,6,9,2]\n",
    "n=9\n",
    "\n",
    "if search(list,n):\n",
    "    print(\"Found at \",pos+1)\n",
    "\n",
    "else:\n",
    "    print(\"Not Found\")"
   ]
  },
  {
   "cell_type": "markdown",
   "id": "9814345e-08d2-4685-8e2b-d0c92cc0cab1",
   "metadata": {},
   "source": [
    "for loop usage here"
   ]
  },
  {
   "cell_type": "code",
   "execution_count": 17,
   "id": "93f65095-8fa1-4477-aabb-853710530093",
   "metadata": {},
   "outputs": [
    {
     "name": "stdout",
     "output_type": "stream",
     "text": [
      "Found at  4\n"
     ]
    }
   ],
   "source": [
    "pos = -1\n",
    "def search(list,n):\n",
    "    \n",
    "    for i in range(0,len(list)):\n",
    "        if list[i]==n:\n",
    "            globals() ['pos'] = i\n",
    "            return True\n",
    "        \n",
    "    return False\n",
    "\n",
    "list = [5,8,4,6,9,2]\n",
    "n=9\n",
    "\n",
    "if search(list,n):\n",
    "    print(\"Found at \",pos)\n",
    "\n",
    "else:\n",
    "    print(\"Not Found\")"
   ]
  },
  {
   "cell_type": "code",
   "execution_count": null,
   "id": "d27f59d3-839a-4bc9-8dee-f482e1815887",
   "metadata": {},
   "outputs": [],
   "source": []
  }
 ],
 "metadata": {
  "kernelspec": {
   "display_name": "Python 3 (ipykernel)",
   "language": "python",
   "name": "python3"
  },
  "language_info": {
   "codemirror_mode": {
    "name": "ipython",
    "version": 3
   },
   "file_extension": ".py",
   "mimetype": "text/x-python",
   "name": "python",
   "nbconvert_exporter": "python",
   "pygments_lexer": "ipython3",
   "version": "3.12.4"
  }
 },
 "nbformat": 4,
 "nbformat_minor": 5
}
