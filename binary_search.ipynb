{
 "cells": [
  {
   "cell_type": "code",
   "execution_count": 1,
   "id": "e771d51b-7514-49f4-9bb0-e2175d2e829d",
   "metadata": {},
   "outputs": [
    {
     "name": "stdout",
     "output_type": "stream",
     "text": [
      "Found at  4\n"
     ]
    }
   ],
   "source": [
    "pos = -1\n",
    "def search(list,n):\n",
    "    l = 0\n",
    "    u = len(list)-1\n",
    "    while l <= u:\n",
    "        mid = (l+u)//2\n",
    "        if list[mid]==n:\n",
    "            globals()['pos']=mid\n",
    "            return True \n",
    "        else:\n",
    "            if list[mid]<n:\n",
    "                l = mid+1\n",
    "            else:\n",
    "                u = mid-1\n",
    "    \n",
    "    \n",
    "\n",
    "list = [5,8,4,6,9,2]\n",
    "n=9\n",
    "\n",
    "if search(list,n):\n",
    "    print(\"Found at \",pos)\n",
    "\n",
    "else:\n",
    "    print(\"Not Found\")"
   ]
  },
  {
   "cell_type": "code",
   "execution_count": null,
   "id": "6d74f4b4-8896-4229-bf3c-804e4902c66b",
   "metadata": {},
   "outputs": [],
   "source": []
  }
 ],
 "metadata": {
  "kernelspec": {
   "display_name": "Python 3 (ipykernel)",
   "language": "python",
   "name": "python3"
  },
  "language_info": {
   "codemirror_mode": {
    "name": "ipython",
    "version": 3
   },
   "file_extension": ".py",
   "mimetype": "text/x-python",
   "name": "python",
   "nbconvert_exporter": "python",
   "pygments_lexer": "ipython3",
   "version": "3.12.4"
  }
 },
 "nbformat": 4,
 "nbformat_minor": 5
}
