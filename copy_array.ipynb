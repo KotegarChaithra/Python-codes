{
 "cells": [
  {
   "cell_type": "markdown",
   "id": "6582ed2d-c428-48cc-ace2-49b94a7f749d",
   "metadata": {},
   "source": [
    "                                         Creating array with an existing array"
   ]
  },
  {
   "cell_type": "code",
   "execution_count": 1,
   "id": "042a94f9-3d80-4256-b48b-46d225eb2724",
   "metadata": {},
   "outputs": [],
   "source": [
    "from numpy import *"
   ]
  },
  {
   "cell_type": "code",
   "execution_count": 5,
   "id": "69da5851-031f-4b83-8e82-159a18db270e",
   "metadata": {},
   "outputs": [
    {
     "name": "stdout",
     "output_type": "stream",
     "text": [
      "Befor adding 5 to every elements [1 2 3 4 5]\n",
      "After adding 5 to every elements [ 6  7  8  9 10]\n"
     ]
    }
   ],
   "source": [
    "arr = array([1,2,3,4,5])\n",
    "\n",
    "# I want to add 5 to each and every element\n",
    "arr1 = arr + 5\n",
    "print('Befor adding 5 to every elements',arr)\n",
    "print('After adding 5 to every elements',arr1)"
   ]
  },
  {
   "cell_type": "code",
   "execution_count": 7,
   "id": "a9ae866e-e4fa-4cb6-a9a3-843b30529ef8",
   "metadata": {},
   "outputs": [
    {
     "name": "stdout",
     "output_type": "stream",
     "text": [
      "array 1                   : [1 2 3 4 5]\n",
      "array 2                   : [6 1 9 3 2]\n",
      "Additionf of arr1 and arr2: [ 7  3 12  7  7]\n"
     ]
    }
   ],
   "source": [
    "#we can also add 2 different arrays\n",
    "arr1= array([1,2,3,4,5])\n",
    "arr2 =array([6,1,9,3,2])\n",
    "\n",
    "arr3 = arr1+arr2\n",
    "print('array 1                   :',arr1)\n",
    "print('array 2                   :',arr2)\n",
    "print('Additionf of arr1 and arr2:',arr3)"
   ]
  },
  {
   "cell_type": "raw",
   "id": "7c970c9d-6692-4d6a-89ad-ec6cc2f3a4d7",
   "metadata": {},
   "source": [
    "                                                      Vectorized Operation"
   ]
  },
  {
   "cell_type": "markdown",
   "id": "7bd7263a-fb4b-4958-af2a-79a11770777e",
   "metadata": {},
   "source": [
    " -- numppy : num stands for numerical value, we can do certain operations\n",
    " \n",
    " -- example : trignometry operations (sin,cos,tan)"
   ]
  },
  {
   "cell_type": "code",
   "execution_count": 16,
   "id": "e2379800-9ae0-4d9c-bbc8-f43939e06aed",
   "metadata": {},
   "outputs": [
    {
     "name": "stdout",
     "output_type": "stream",
     "text": [
      "Original array             : [1 2 3 4 5]\n",
      "sin values of array element: [ 0.84147098  0.90929743  0.14112001 -0.7568025  -0.95892427]\n"
     ]
    }
   ],
   "source": [
    "#Find sin of array\n",
    "arr = array([1,2,3,4,5])\n",
    "print('Original array             :',arr)\n",
    "print('sin values of array element:',sin(arr))"
   ]
  },
  {
   "cell_type": "code",
   "execution_count": 17,
   "id": "b160478b-bb88-4c0e-8316-13ed3be74239",
   "metadata": {},
   "outputs": [
    {
     "name": "stdout",
     "output_type": "stream",
     "text": [
      "Original array             : [1 2 3 4 5]\n",
      "cos values of array element: [ 0.54030231 -0.41614684 -0.9899925  -0.65364362  0.28366219]\n"
     ]
    }
   ],
   "source": [
    "#Find cos of array\n",
    "arr = array([1,2,3,4,5])\n",
    "print('Original array             :',arr)\n",
    "print('cos values of array element:',cos(arr))"
   ]
  },
  {
   "cell_type": "code",
   "execution_count": 18,
   "id": "de703dce-5c08-4148-bd94-7a4a362c7891",
   "metadata": {},
   "outputs": [
    {
     "name": "stdout",
     "output_type": "stream",
     "text": [
      "Original array             : [1 2 3 4 5]\n",
      "log values of array element: [0.         0.69314718 1.09861229 1.38629436 1.60943791]\n"
     ]
    }
   ],
   "source": [
    "#Find log of array\n",
    "arr = array([1,2,3,4,5])\n",
    "print('Original array             :',arr)\n",
    "print('log values of array element:',log(arr))"
   ]
  },
  {
   "cell_type": "code",
   "execution_count": 19,
   "id": "cdb84c3f-c7b4-4323-99d6-10cddd8d77ad",
   "metadata": {},
   "outputs": [
    {
     "name": "stdout",
     "output_type": "stream",
     "text": [
      "Original array              : [1 2 3 4 5]\n",
      "sqrt values of array element: [1.         1.41421356 1.73205081 2.         2.23606798]\n"
     ]
    }
   ],
   "source": [
    "#Find square root of array\n",
    "arr = array([1,2,3,4,5])\n",
    "print('Original array              :',arr)\n",
    "print('sqrt values of array element:',sqrt(arr))"
   ]
  },
  {
   "cell_type": "code",
   "execution_count": 20,
   "id": "a18e913f-c9c3-4082-9c68-c53850d4f264",
   "metadata": {},
   "outputs": [
    {
     "name": "stdout",
     "output_type": "stream",
     "text": [
      "Original array             : [1 2 3 4 5]\n",
      "sum values of array element: 15\n"
     ]
    }
   ],
   "source": [
    "#Find sum of array\n",
    "arr = array([1,2,3,4,5])\n",
    "print('Original array             :',arr)\n",
    "print('sum values of array element:',sum(arr))"
   ]
  },
  {
   "cell_type": "code",
   "execution_count": 21,
   "id": "9017d837-a62b-4008-993d-ba7b1ed04452",
   "metadata": {},
   "outputs": [
    {
     "name": "stdout",
     "output_type": "stream",
     "text": [
      "Original array             : [1 2 3 4 5]\n",
      "min values of array element: 1\n"
     ]
    }
   ],
   "source": [
    "#Find min of array\n",
    "arr = array([1,2,3,4,5])\n",
    "print('Original array             :',arr)\n",
    "print('min values of array element:',min(arr))"
   ]
  },
  {
   "cell_type": "code",
   "execution_count": 22,
   "id": "92bb1db4-9fa9-437a-b0df-d5cc17d07003",
   "metadata": {},
   "outputs": [
    {
     "name": "stdout",
     "output_type": "stream",
     "text": [
      "Original array             : [1 2 3 4 5]\n",
      "max values of array element: 5\n"
     ]
    }
   ],
   "source": [
    "#Find max of array\n",
    "arr = array([1,2,3,4,5])\n",
    "print('Original array             :',arr)\n",
    "print('max values of array element:',max(arr))"
   ]
  },
  {
   "cell_type": "code",
   "execution_count": 25,
   "id": "00c46d36-a9dd-454d-936c-b698d229a254",
   "metadata": {},
   "outputs": [
    {
     "name": "stdout",
     "output_type": "stream",
     "text": [
      "Original array: [5 7 4 3 9]\n",
      "sorting array : [3 4 5 7 9]\n"
     ]
    }
   ],
   "source": [
    "#sorting array \n",
    "arr=array([5,7,4,3,9])\n",
    "print('Original array:',arr)\n",
    "print('sorting array :',sort(arr))"
   ]
  },
  {
   "cell_type": "code",
   "execution_count": 26,
   "id": "c713c81d-376b-48ed-ae8f-22c74b7417e7",
   "metadata": {},
   "outputs": [
    {
     "name": "stdout",
     "output_type": "stream",
     "text": [
      "Original array            : [5 7 4 3 9 7 3 6 1]\n",
      "unique values in the array: [1 3 4 5 6 7 9]\n"
     ]
    }
   ],
   "source": [
    "#unique values\n",
    "arr=array([5,7,4,3,9,7,3,6,1])\n",
    "print('Original array            :',arr)\n",
    "print('unique values in the array:',unique(arr))"
   ]
  },
  {
   "cell_type": "code",
   "execution_count": 28,
   "id": "96a584f1-1217-4c03-9c9e-ed4402bb3910",
   "metadata": {},
   "outputs": [
    {
     "name": "stdout",
     "output_type": "stream",
     "text": [
      "array 1           : [1 2 3 4 5]\n",
      "array 2           : [6 1 9 3 2]\n",
      "concatenated array: [1 2 3 4 5 6 1 9 3 2]\n"
     ]
    }
   ],
   "source": [
    "#concatenate array\n",
    "arr1= array([1,2,3,4,5])\n",
    "arr2 =array([6,1,9,3,2])\n",
    "print('array 1           :',arr1)\n",
    "print('array 2           :',arr2)\n",
    "print('concatenated array:',concatenate([arr1,arr2]))\n"
   ]
  },
  {
   "cell_type": "markdown",
   "id": "3fd11ca5-ea92-48bb-8e87-37b22780dd2d",
   "metadata": {},
   "source": [
    "                                      How to copy an array?"
   ]
  },
  {
   "cell_type": "code",
   "execution_count": 29,
   "id": "30a6366a-a0a8-4132-b365-b470ffcb66d9",
   "metadata": {},
   "outputs": [
    {
     "name": "stdout",
     "output_type": "stream",
     "text": [
      "[2 5 8 3 0 5]\n",
      "[2 5 8 3 0 5]\n"
     ]
    }
   ],
   "source": [
    "arr1=array([2,5,8,3,0,5])\n",
    "arr2=arr1\n",
    "print(arr1)\n",
    "print(arr2)"
   ]
  },
  {
   "cell_type": "code",
   "execution_count": 30,
   "id": "4ebb9c34-6508-4821-a6fb-f5aa5c3f5688",
   "metadata": {},
   "outputs": [
    {
     "name": "stdout",
     "output_type": "stream",
     "text": [
      "[2 5 8 3 0 5]\n",
      "[2 5 8 3 0 5]\n",
      "2005143060368\n",
      "2005143060368\n"
     ]
    }
   ],
   "source": [
    "#But in your memory you'll have only one array, not 2 array, array 2 is not backup of array 1\n",
    "#How to check, like this :\n",
    "arr1=array([2,5,8,3,0,5])\n",
    "arr2=arr1\n",
    "print(arr1)\n",
    "print(arr2)\n",
    "print(id(arr1))\n",
    "print(id(arr2))\n",
    "#both the arrays pointing to same address"
   ]
  },
  {
   "cell_type": "code",
   "execution_count": 31,
   "id": "c3e85909-ddc2-46b2-a85a-35f3bd7b8ca6",
   "metadata": {},
   "outputs": [
    {
     "name": "stdout",
     "output_type": "stream",
     "text": [
      "[2 5 8 3 0 5]\n",
      "[2 5 8 3 0 5]\n",
      "2005143458160\n",
      "2005143458832\n"
     ]
    }
   ],
   "source": [
    "#then comes the concept of aliasing\n",
    "arr1=array([2,5,8,3,0,5])\n",
    "arr2 = arr1.view() #to store the values in 2 different address\n",
    "print(arr1)\n",
    "print(arr2)\n",
    "print(id(arr1))\n",
    "print(id(arr2))\n",
    "#both address are different but there is a one problem here"
   ]
  },
  {
   "cell_type": "markdown",
   "id": "31dd2fb1-9c9f-4a3d-b577-2b9dfd7419b6",
   "metadata": {},
   "source": [
    "____________________________________________________________________________________________________________________________"
   ]
  },
  {
   "cell_type": "markdown",
   "id": "e1e421f7-dd5f-475c-a957-4e58952b4f28",
   "metadata": {},
   "source": [
    "\n",
    " \n",
    " when copying also we have 2 different copies:\n",
    "<li> Shallow Copy\n",
    "<li> Deep Copy"
   ]
  },
  {
   "cell_type": "code",
   "execution_count": null,
   "id": "6b8324ce-11f3-4614-9078-8476fc506cc5",
   "metadata": {},
   "outputs": [],
   "source": []
  },
  {
   "cell_type": "markdown",
   "id": "7de8a212-cba4-45dc-aba2-fb97cbddc5fc",
   "metadata": {},
   "source": [
    "<li> Shallow Copy : It will copy the elements but then , both array still depends on each other"
   ]
  },
  {
   "cell_type": "code",
   "execution_count": 32,
   "id": "2513a749-7d8a-43ba-a1ca-2677ed2782de",
   "metadata": {},
   "outputs": [
    {
     "name": "stdout",
     "output_type": "stream",
     "text": [
      "[2 7 8 3 0 5]\n",
      "[2 7 8 3 0 5]\n",
      "2005143060368\n",
      "2005143458928\n"
     ]
    }
   ],
   "source": [
    "arr1=array([2,5,8,3,0,5])\n",
    "arr2 = arr1.view() # shallow copy\n",
    "arr1[1]=7 # changing value of array 1 2nd element \n",
    "print(arr1)\n",
    "print(arr2)\n",
    "print(id(arr1))\n",
    "print(id(arr2))\n",
    "\n",
    "#since we are doing shallow copy, if we change array 1 it will change in array 2 as well, hence 2 arrays depend on each other"
   ]
  },
  {
   "cell_type": "code",
   "execution_count": 33,
   "id": "38611370-0411-4be6-89c0-e95fe1a2db74",
   "metadata": {},
   "outputs": [
    {
     "name": "stdout",
     "output_type": "stream",
     "text": [
      "[2 7 8 3 0 5]\n",
      "[2 7 8 3 0 5]\n",
      "2005143458736\n",
      "2005143458160\n"
     ]
    }
   ],
   "source": [
    "arr1=array([2,5,8,3,0,5])\n",
    "arr2 = arr1.view() # shallow copy\n",
    "arr2[1]=7 # changing value of array 2 2nd element \n",
    "print(arr1)\n",
    "print(arr2)\n",
    "print(id(arr1))\n",
    "print(id(arr2))\n",
    "#since we are doing shallow copy, if we change array 2 it will change in array 1 as well, hence 2 arrays depend on each other"
   ]
  },
  {
   "cell_type": "code",
   "execution_count": null,
   "id": "30dbf825-08b5-4327-a20a-c22c29e45763",
   "metadata": {},
   "outputs": [],
   "source": []
  },
  {
   "cell_type": "markdown",
   "id": "9151b56a-3844-486b-bb14-4ef49d6cb2f8",
   "metadata": {},
   "source": [
    "<li> Deep Copy : wont depend one each other"
   ]
  },
  {
   "cell_type": "code",
   "execution_count": 34,
   "id": "b66012c8-a15a-4b59-bb5e-b0ddfb115e49",
   "metadata": {},
   "outputs": [
    {
     "name": "stdout",
     "output_type": "stream",
     "text": [
      "[2 5 8 3 0 5]\n",
      "[2 7 8 3 0 5]\n",
      "2005143060368\n",
      "2005143459120\n"
     ]
    }
   ],
   "source": [
    "arr1=array([2,5,8,3,0,5])\n",
    "arr2 = arr1.copy() # Deep copy\n",
    "arr2[1]=7 # changing value of array 2 2nd element \n",
    "print(arr1)\n",
    "print(arr2)\n",
    "print(id(arr1))\n",
    "print(id(arr2))\n",
    "#It chaged whatever array element we changed array 1 element remains the same here"
   ]
  },
  {
   "cell_type": "code",
   "execution_count": 36,
   "id": "a8296c63-ead7-4431-b963-ff2e27691833",
   "metadata": {},
   "outputs": [
    {
     "name": "stdout",
     "output_type": "stream",
     "text": [
      "[2 7 8 3 0 5]\n",
      "[2 5 8 3 0 5]\n",
      "2005143458640\n",
      "2005143459216\n"
     ]
    }
   ],
   "source": [
    "arr1=array([2,5,8,3,0,5])\n",
    "arr2 = arr1.copy() # Deep copy\n",
    "arr1[1]=7 # changing value of array 2 2nd element \n",
    "print(arr1)\n",
    "print(arr2)\n",
    "print(id(arr1))\n",
    "print(id(arr2))"
   ]
  },
  {
   "cell_type": "code",
   "execution_count": null,
   "id": "fa7c2691-ed92-429f-b744-a86c9ad88c82",
   "metadata": {},
   "outputs": [],
   "source": []
  }
 ],
 "metadata": {
  "kernelspec": {
   "display_name": "Python 3 (ipykernel)",
   "language": "python",
   "name": "python3"
  },
  "language_info": {
   "codemirror_mode": {
    "name": "ipython",
    "version": 3
   },
   "file_extension": ".py",
   "mimetype": "text/x-python",
   "name": "python",
   "nbconvert_exporter": "python",
   "pygments_lexer": "ipython3",
   "version": "3.12.4"
  }
 },
 "nbformat": 4,
 "nbformat_minor": 5
}
