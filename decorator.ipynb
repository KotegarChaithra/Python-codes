{
 "cells": [
  {
   "cell_type": "markdown",
   "id": "88c4064f-46e1-4431-b3af-40772c78ba82",
   "metadata": {},
   "source": [
    "                                                      DECORATOR IN PYTHON"
   ]
  },
  {
   "cell_type": "code",
   "execution_count": 1,
   "id": "b04e2c19-3c06-4c7f-be88-ea3ab25fdfb6",
   "metadata": {},
   "outputs": [
    {
     "name": "stdout",
     "output_type": "stream",
     "text": [
      "2.0\n"
     ]
    }
   ],
   "source": [
    "def div(a,b):\n",
    "    print(a/b)\n",
    "\n",
    "div(4,2)\n",
    "#here output is 2"
   ]
  },
  {
   "cell_type": "code",
   "execution_count": 2,
   "id": "95f74d85-0181-4029-95e7-83c819d91f77",
   "metadata": {},
   "outputs": [
    {
     "name": "stdout",
     "output_type": "stream",
     "text": [
      "0.5\n"
     ]
    }
   ],
   "source": [
    "def div(a,b):\n",
    "    print(a/b)\n",
    "\n",
    "div(2,4)\n",
    "#here ouput is 0.5"
   ]
  },
  {
   "cell_type": "markdown",
   "id": "3adf475a-793d-40b2-987b-7a917f8ac0b2",
   "metadata": {},
   "source": [
    "what if the numerator value always bigger than denominator, even if the value format (2,4) it should swap the values like (4,2) only"
   ]
  },
  {
   "cell_type": "code",
   "execution_count": 6,
   "id": "d1243469-54bc-4e09-b430-f90f65845a43",
   "metadata": {},
   "outputs": [
    {
     "name": "stdout",
     "output_type": "stream",
     "text": [
      "2.0\n"
     ]
    }
   ],
   "source": [
    "def div(a,b):\n",
    "    print(a/b)\n",
    "\n",
    "def smart_div(func):\n",
    "\n",
    "    def inner(a,b):\n",
    "        if a<b:\n",
    "            a,b=b,a\n",
    "        return func(a,b)\n",
    "    return inner\n",
    "\n",
    "div = smart_div(div)\n",
    "div(2,4)"
   ]
  },
  {
   "cell_type": "code",
   "execution_count": null,
   "id": "c8f3ac1c-9ddc-4b41-a40b-9d3953a859c1",
   "metadata": {},
   "outputs": [],
   "source": []
  }
 ],
 "metadata": {
  "kernelspec": {
   "display_name": "Python 3 (ipykernel)",
   "language": "python",
   "name": "python3"
  },
  "language_info": {
   "codemirror_mode": {
    "name": "ipython",
    "version": 3
   },
   "file_extension": ".py",
   "mimetype": "text/x-python",
   "name": "python",
   "nbconvert_exporter": "python",
   "pygments_lexer": "ipython3",
   "version": "3.12.4"
  }
 },
 "nbformat": 4,
 "nbformat_minor": 5
}
