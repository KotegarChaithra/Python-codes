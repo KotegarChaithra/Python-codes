{
 "cells": [
  {
   "cell_type": "markdown",
   "id": "b678f28a-5e8b-47e2-82f6-92dfd7a83389",
   "metadata": {},
   "source": [
    "                                                     WHY DO WE NEED FUNCTIONS?"
   ]
  },
  {
   "cell_type": "markdown",
   "id": "7d27f6d9-d9d8-4162-a77c-9671873deb96",
   "metadata": {},
   "source": [
    "Scenario: \n",
    "\n",
    "When we have complex project , we will be breaking it into smaller one ryt?\n",
    "\n",
    "If you have many operations like e.g : If there is a payment operation you want to do that perticular operation will have many statements in it and you want to use same set of operations again and again\n",
    "you can all the function at any time."
   ]
  },
  {
   "cell_type": "code",
   "execution_count": 3,
   "id": "940d86a3-483b-463f-b070-a4d7ffce42e4",
   "metadata": {},
   "outputs": [
    {
     "name": "stdout",
     "output_type": "stream",
     "text": [
      "Hello\n",
      "Good Morning\n"
     ]
    }
   ],
   "source": [
    "def greet():\n",
    "    print(\"Hello\")\n",
    "    print(\"Good Morning\")\n",
    "#explicitly need to call\n",
    "greet()"
   ]
  },
  {
   "cell_type": "code",
   "execution_count": 5,
   "id": "f028c5a3-a93c-4e39-a6a6-8ddb37efc5e2",
   "metadata": {},
   "outputs": [
    {
     "name": "stdout",
     "output_type": "stream",
     "text": [
      "Hello\n",
      "Good Morning\n",
      "Addition of two numbers are:\n",
      " 9\n"
     ]
    }
   ],
   "source": [
    "#if I want to add tow numbers\n",
    "def add(x,y):\n",
    "    c = x+y\n",
    "    print(\"Addition of two numbers are:\\n\",c)\n",
    "greet() # we can call any time \n",
    "add(5,4)"
   ]
  },
  {
   "cell_type": "code",
   "execution_count": null,
   "id": "f3905d6b-49f7-4b3b-bc95-4f9a4a87d7c8",
   "metadata": {},
   "outputs": [],
   "source": []
  },
  {
   "cell_type": "markdown",
   "id": "b360260d-aa91-442d-ba36-8cbe2cdbf425",
   "metadata": {},
   "source": [
    "Scenario when to use return function:\n",
    "\n",
    "I am telling my friend , Hey Divya, please tell Anu to come to movie -> in return I am not expecting anything ryt?\n",
    "But, I am telling my friend like this, Hey divya, could you pls ask Anu whether she's coming to movie or not and let me als know? --? I am expecting something here\n",
    "\n",
    "here comes the concept of return statement in function"
   ]
  },
  {
   "cell_type": "code",
   "execution_count": 16,
   "id": "791a6cfd-fcdd-4858-bc08-493751459fff",
   "metadata": {},
   "outputs": [
    {
     "name": "stdout",
     "output_type": "stream",
     "text": [
      "9\n"
     ]
    }
   ],
   "source": [
    "def add(x,y):\n",
    "    c=x+y\n",
    "    return c # when I am using return statement, it is going to return result in result variable, it won't display result to me\n",
    "result = add(5,4)\n",
    "print(result)# After using print stament only I can see the result"
   ]
  },
  {
   "cell_type": "code",
   "execution_count": 17,
   "id": "c09de104-5b62-4df1-86e8-b4794afc0952",
   "metadata": {},
   "outputs": [
    {
     "name": "stdout",
     "output_type": "stream",
     "text": [
      "9 9\n"
     ]
    }
   ],
   "source": [
    "def add_sub(x,y):\n",
    "    c=x+y\n",
    "    d=x+y\n",
    "    return c,d\n",
    "\n",
    "result1,result2 = add_sub(5,4)\n",
    "print(result1,result2)"
   ]
  },
  {
   "cell_type": "code",
   "execution_count": null,
   "id": "ba9f7e68-8f66-4816-b2ce-cc49b16a8246",
   "metadata": {},
   "outputs": [],
   "source": []
  },
  {
   "cell_type": "markdown",
   "id": "aeb8ff6e-3d42-4f08-910f-d34638607ebf",
   "metadata": {},
   "source": [
    "                                                    FUNCTION ARGUMENTS"
   ]
  },
  {
   "cell_type": "markdown",
   "id": "583d0e5a-961b-48c5-b846-8bd184d4acb9",
   "metadata": {},
   "source": [
    "--Function arguments, How to pass?\n",
    "\n",
    "--Types of Arguments"
   ]
  },
  {
   "cell_type": "code",
   "execution_count": 24,
   "id": "daf14a8b-a8a7-44f4-8e9e-6bdba28a4222",
   "metadata": {},
   "outputs": [
    {
     "name": "stdout",
     "output_type": "stream",
     "text": [
      "x=  8\n",
      "a=  10\n"
     ]
    }
   ],
   "source": [
    "def update(x): ##pass by value : passing value to print here\n",
    "    x = 8\n",
    "    print(\"x= \",x)\n",
    "a=10\n",
    "update(a)#pass by reference : passing address of 'a'\n",
    "print(\"a= \",a)"
   ]
  },
  {
   "cell_type": "markdown",
   "id": "631e87ad-8149-4be4-8a08-37c0a5c64cb2",
   "metadata": {},
   "source": [
    "We have a concept calle \n",
    "\n",
    "--pass by value\n",
    "\n",
    "--pass by reference"
   ]
  },
  {
   "cell_type": "code",
   "execution_count": 28,
   "id": "dc95caec-060c-4198-a421-3c5ecb50392a",
   "metadata": {},
   "outputs": [
    {
     "name": "stdout",
     "output_type": "stream",
     "text": [
      "140709974833880\n",
      "140709974833880\n",
      "140709974833816\n",
      "x=  8\n",
      "a=  10\n"
     ]
    }
   ],
   "source": [
    "def update(x): ##pass by value : passing value to print here\n",
    "    print(id(x))\n",
    "    x = 8\n",
    "    print(id(x))\n",
    "    print(\"x= \",x)\n",
    "a=10\n",
    "print(id(a))\n",
    "update(a)#pass by reference : passing address of 'a'\n",
    "print(\"a= \",a)"
   ]
  },
  {
   "cell_type": "markdown",
   "id": "8015da23-88aa-48a6-b814-1f9cc3281443",
   "metadata": {},
   "source": [
    "\n",
    "When you call a function by passing value, their address are same; moment you changed the value it'll change the address\n",
    "\n",
    "\n"
   ]
  },
  {
   "cell_type": "markdown",
   "id": "675b10a3-3c02-4ed6-a4c5-0c6e784a8c7c",
   "metadata": {},
   "source": [
    "In python what we use pass by value or pass by reference?\n",
    "None of them"
   ]
  },
  {
   "cell_type": "code",
   "execution_count": 31,
   "id": "96a3099a-e22c-4fd9-96bb-cbb8b925ca32",
   "metadata": {},
   "outputs": [
    {
     "name": "stdout",
     "output_type": "stream",
     "text": [
      "2887723904256\n",
      "2887723904256\n",
      "140709974833816\n",
      "x=  8\n",
      "a=  [10, 20, 30]\n"
     ]
    }
   ],
   "source": [
    "def update(x):\n",
    "    print(id(x))\n",
    "    x = 8\n",
    "    print(id(x))\n",
    "    print(\"x= \",x)\n",
    "\n",
    "list = [10,20,30]\n",
    "print(id(list))\n",
    "update(list)\n",
    "print(\"a= \",list)\n",
    "    "
   ]
  },
  {
   "cell_type": "code",
   "execution_count": 34,
   "id": "bb573bcd-23a8-44b9-946f-3b9452db7673",
   "metadata": {},
   "outputs": [
    {
     "name": "stdout",
     "output_type": "stream",
     "text": [
      "2887724278784\n",
      "2887724278784\n",
      "2887724278784\n",
      "x=  [10, 25, 30]\n",
      "list=  [10, 25, 30]\n"
     ]
    }
   ],
   "source": [
    "#after changing list value\n",
    "def update(list):\n",
    "    print(id(list))\n",
    "    list[1] = 25\n",
    "    print(id(list))\n",
    "    print(\"x= \",list)\n",
    "\n",
    "list = [10,20,30]\n",
    "print(id(list))\n",
    "update(list)\n",
    "print(\"list= \",list)"
   ]
  },
  {
   "cell_type": "code",
   "execution_count": null,
   "id": "09a66fc2-b5e2-4bbd-a8c7-c344e1729d5e",
   "metadata": {},
   "outputs": [],
   "source": []
  },
  {
   "cell_type": "markdown",
   "id": "bc400d17-4541-4b1d-84a9-b2ace52de183",
   "metadata": {},
   "source": [
    "                                                 TYPES OF FUNCTION ARGUMENTS"
   ]
  },
  {
   "cell_type": "code",
   "execution_count": 1,
   "id": "cbcaceff-8f3c-4d21-9563-184b6624f9b4",
   "metadata": {},
   "outputs": [
    {
     "name": "stdout",
     "output_type": "stream",
     "text": [
      "11\n"
     ]
    }
   ],
   "source": [
    "def add(a,b): #Forml arguments : define variable\n",
    "    c=a+b\n",
    "    print(c)\n",
    "\n",
    "add(5,6) #Actual Arguments : passing value\n",
    "    "
   ]
  },
  {
   "cell_type": "markdown",
   "id": "6d360d19-08a3-41a2-80cf-4133f47cbbbe",
   "metadata": {},
   "source": [
    "Types of Actual Arguments :\n",
    "<br>1. Position\n",
    "<br>2. Keyword\n",
    "<br>3. Default\n",
    "<br>4. Variable Length"
   ]
  },
  {
   "cell_type": "markdown",
   "id": "a06b7b73-6d5a-422c-9f2b-ba08af286201",
   "metadata": {},
   "source": [
    " add(a,b) --> add(5,6) : positioned"
   ]
  },
  {
   "cell_type": "code",
   "execution_count": 3,
   "id": "b8aa9f9f-18e9-476b-bb6d-397ee387ab7c",
   "metadata": {},
   "outputs": [
    {
     "name": "stdout",
     "output_type": "stream",
     "text": [
      "Chithra\n",
      "24\n"
     ]
    }
   ],
   "source": [
    "def person(name,age):\n",
    "    print(name)\n",
    "    print(age)\n",
    "\n",
    "person('Chithra',24)\n",
    "#how the Chaithra going and sit into name parameter and 24 go and sit in age parameter -> called Position Arguments"
   ]
  },
  {
   "cell_type": "code",
   "execution_count": 4,
   "id": "2897f65f-e506-41b0-b5d3-1204c1afea54",
   "metadata": {},
   "outputs": [
    {
     "name": "stdout",
     "output_type": "stream",
     "text": [
      "Chithra\n",
      "24\n"
     ]
    }
   ],
   "source": [
    "#What if I dont know the sequence\n",
    "#If I have reurn function body sme where else, but I am not sure about the sequence\n",
    "def person(name,age):\n",
    "    print(name)\n",
    "    print(age)\n",
    "\n",
    "person(age=24,name='Chithra')#keyword arguments"
   ]
  },
  {
   "cell_type": "code",
   "execution_count": 5,
   "id": "f430ea8c-5c01-4949-94b2-cec35bd1df81",
   "metadata": {},
   "outputs": [
    {
     "name": "stdout",
     "output_type": "stream",
     "text": [
      "Chithra\n",
      "18\n"
     ]
    }
   ],
   "source": [
    "#If I didn't pass the value for variables, by default it should tae some value\n",
    "def person(name,age=18):\n",
    "    print(name)\n",
    "    print(age)\n",
    "\n",
    "person('Chithra')#default"
   ]
  },
  {
   "cell_type": "code",
   "execution_count": 7,
   "id": "e17be6d2-ef42-4be6-8455-36f98d899bd5",
   "metadata": {},
   "outputs": [
    {
     "name": "stdout",
     "output_type": "stream",
     "text": [
      "Chithra\n",
      "28\n"
     ]
    }
   ],
   "source": [
    "#What if I specify the value and used default value as well, what it will take\n",
    "def person(name,age=18):\n",
    "    print(name)\n",
    "    print(age)\n",
    "\n",
    "person('Chithra',28)\n",
    "#It overrides the value as 28 not 18"
   ]
  },
  {
   "cell_type": "code",
   "execution_count": 9,
   "id": "1ec1c4a6-3287-426e-929c-a576c2fca703",
   "metadata": {},
   "outputs": [
    {
     "ename": "TypeError",
     "evalue": "unsupported operand type(s) for +: 'int' and 'tuple'",
     "output_type": "error",
     "traceback": [
      "\u001b[1;31m---------------------------------------------------------------------------\u001b[0m",
      "\u001b[1;31mTypeError\u001b[0m                                 Traceback (most recent call last)",
      "Cell \u001b[1;32mIn[9], line 6\u001b[0m\n\u001b[0;32m      3\u001b[0m     c \u001b[38;5;241m=\u001b[39m a\u001b[38;5;241m+\u001b[39mb\n\u001b[0;32m      4\u001b[0m     \u001b[38;5;28mprint\u001b[39m(c)\n\u001b[1;32m----> 6\u001b[0m \u001b[38;5;28;43msum\u001b[39;49m\u001b[43m(\u001b[49m\u001b[38;5;241;43m5\u001b[39;49m\u001b[43m,\u001b[49m\u001b[38;5;241;43m6\u001b[39;49m\u001b[43m,\u001b[49m\u001b[38;5;241;43m34\u001b[39;49m\u001b[43m,\u001b[49m\u001b[38;5;241;43m78\u001b[39;49m\u001b[43m)\u001b[49m\n",
      "Cell \u001b[1;32mIn[9], line 3\u001b[0m, in \u001b[0;36msum\u001b[1;34m(a, *b)\u001b[0m\n\u001b[0;32m      2\u001b[0m \u001b[38;5;28;01mdef\u001b[39;00m \u001b[38;5;21msum\u001b[39m(a,\u001b[38;5;241m*\u001b[39mb):\n\u001b[1;32m----> 3\u001b[0m     c \u001b[38;5;241m=\u001b[39m \u001b[43ma\u001b[49m\u001b[38;5;241;43m+\u001b[39;49m\u001b[43mb\u001b[49m\n\u001b[0;32m      4\u001b[0m     \u001b[38;5;28mprint\u001b[39m(c)\n",
      "\u001b[1;31mTypeError\u001b[0m: unsupported operand type(s) for +: 'int' and 'tuple'"
     ]
    }
   ],
   "source": [
    "#variable Length\n",
    "def sum(a,*b): # 'b' will tale multiple values, 'a' value is confirmed\n",
    "    c = a+b\n",
    "    print(c)\n",
    "\n",
    "sum(5,6,34,78)\n",
    "#error: you can't add int and tuple"
   ]
  },
  {
   "cell_type": "code",
   "execution_count": 10,
   "id": "4d764b37-5846-4d97-8f8e-dfcb2ef683dc",
   "metadata": {},
   "outputs": [
    {
     "name": "stdout",
     "output_type": "stream",
     "text": [
      "5\n",
      "(6, 34, 78)\n"
     ]
    }
   ],
   "source": [
    "#How to solve above error, let me check what is happening here\n",
    "def sum(a,*b):\n",
    "    print(a)\n",
    "    print(b)\n",
    "\n",
    "sum(5,6,34,78)"
   ]
  },
  {
   "cell_type": "markdown",
   "id": "ac288562-1c78-4e68-aaf6-c8bcd924df74",
   "metadata": {},
   "source": [
    " If we see above output 5 is integer and (6,34,78) are tuple"
   ]
  },
  {
   "cell_type": "code",
   "execution_count": 11,
   "id": "6ec87140-2ddf-4c70-8d4b-bbc549acd315",
   "metadata": {},
   "outputs": [
    {
     "name": "stdout",
     "output_type": "stream",
     "text": [
      "123\n"
     ]
    }
   ],
   "source": [
    "#How to add now?\n",
    "def sum(a,*b):\n",
    "    c = a\n",
    "    for i in b:\n",
    "        c = c + i\n",
    "\n",
    "    print(c)\n",
    "\n",
    "sum(5,6,34,78)  "
   ]
  },
  {
   "cell_type": "code",
   "execution_count": 13,
   "id": "ad32db1d-9936-408e-a03a-fec86b1bcd61",
   "metadata": {},
   "outputs": [
    {
     "name": "stdout",
     "output_type": "stream",
     "text": [
      "123\n"
     ]
    }
   ],
   "source": [
    "def sum(*b):\n",
    "    c = 0 #In this case we simply make c=0\n",
    "    for i in b:\n",
    "        c = c + i\n",
    "\n",
    "    print(c)\n",
    "\n",
    "sum(5,6,34,78)"
   ]
  },
  {
   "cell_type": "code",
   "execution_count": 15,
   "id": "0910df61-594e-4068-85ed-17c50b4bd3bd",
   "metadata": {},
   "outputs": [
    {
     "ename": "TypeError",
     "evalue": "person() got an unexpected keyword argument 'age'",
     "output_type": "error",
     "traceback": [
      "\u001b[1;31m---------------------------------------------------------------------------\u001b[0m",
      "\u001b[1;31mTypeError\u001b[0m                                 Traceback (most recent call last)",
      "Cell \u001b[1;32mIn[15], line 6\u001b[0m\n\u001b[0;32m      3\u001b[0m     \u001b[38;5;28mprint\u001b[39m(name)\n\u001b[0;32m      4\u001b[0m     \u001b[38;5;28mprint\u001b[39m(data)\n\u001b[1;32m----> 6\u001b[0m \u001b[43mperson\u001b[49m\u001b[43m(\u001b[49m\u001b[38;5;124;43m'\u001b[39;49m\u001b[38;5;124;43mChaithra\u001b[39;49m\u001b[38;5;124;43m'\u001b[39;49m\u001b[43m,\u001b[49m\u001b[43mage\u001b[49m\u001b[38;5;241;43m=\u001b[39;49m\u001b[38;5;241;43m24\u001b[39;49m\u001b[43m,\u001b[49m\u001b[43mcity\u001b[49m\u001b[38;5;241;43m=\u001b[39;49m\u001b[38;5;124;43m'\u001b[39;49m\u001b[38;5;124;43mKundapur\u001b[39;49m\u001b[38;5;124;43m'\u001b[39;49m\u001b[43m,\u001b[49m\u001b[43mmob\u001b[49m\u001b[38;5;241;43m=\u001b[39;49m\u001b[38;5;241;43m9786543201\u001b[39;49m\u001b[43m)\u001b[49m\n",
      "\u001b[1;31mTypeError\u001b[0m: person() got an unexpected keyword argument 'age'"
     ]
    }
   ],
   "source": [
    "#keyworded variable length arguments\n",
    "def person(name, *data):\n",
    "    print(name)\n",
    "    print(data)\n",
    "\n",
    "person('Chaithra',age=24,city='Kundapur',mob=9786543201)#keyword like age=24 etc"
   ]
  },
  {
   "cell_type": "code",
   "execution_count": 20,
   "id": "4e53f8f8-d74e-4ba1-9b7c-f287d865d824",
   "metadata": {},
   "outputs": [
    {
     "name": "stdout",
     "output_type": "stream",
     "text": [
      "Chaithra\n",
      "age 24\n",
      "city Kundapur\n",
      "mob 9786543201\n"
     ]
    }
   ],
   "source": [
    "#how to solve above error: by giving two **\n",
    "def person(name,**data):\n",
    "    print(name)\n",
    "    for i,J in data.items():\n",
    "        print(i,J)\n",
    "\n",
    "person('Chaithra',age=24,city='Kundapur',mob=9786543201)"
   ]
  },
  {
   "cell_type": "code",
   "execution_count": null,
   "id": "b300aabb-e1ab-401a-bf3a-8a5837984cb2",
   "metadata": {},
   "outputs": [],
   "source": []
  },
  {
   "cell_type": "markdown",
   "id": "f7cdc0ca-ba6c-4730-bd62-3a0bf00c2007",
   "metadata": {},
   "source": [
    "                                          GLOBL KEYWORD IN FUNCTION"
   ]
  },
  {
   "cell_type": "code",
   "execution_count": 2,
   "id": "950f879f-086c-495b-a697-cdf8d64e2622",
   "metadata": {},
   "outputs": [
    {
     "name": "stdout",
     "output_type": "stream",
     "text": [
      "inside function :  15\n",
      "Outside function : 10\n"
     ]
    }
   ],
   "source": [
    "a = 10 #Global variable\n",
    "\n",
    "def something():\n",
    "    a=15\n",
    "    print(\"inside function : \",a)#Local variable \n",
    "\n",
    "something()\n",
    "print(\"Outside function :\",a)"
   ]
  },
  {
   "cell_type": "code",
   "execution_count": 3,
   "id": "635f9320-1c91-4f09-b475-b4fbcf18a587",
   "metadata": {},
   "outputs": [
    {
     "name": "stdout",
     "output_type": "stream",
     "text": [
      "inside function :  10\n",
      "Outside function : 10\n"
     ]
    }
   ],
   "source": [
    "#What if I don't have variable inside function\n",
    "a = 10 #Global variable\n",
    "\n",
    "def something():\n",
    "    \n",
    "    print(\"inside function : \",a)\n",
    "\n",
    "something()\n",
    "print(\"Outside function :\",a)"
   ]
  },
  {
   "cell_type": "code",
   "execution_count": 4,
   "id": "18cf5bd3-bafb-4a02-aad8-a538dca5c67a",
   "metadata": {},
   "outputs": [
    {
     "name": "stdout",
     "output_type": "stream",
     "text": [
      "Inside function: 15\n",
      "outside function:  15\n"
     ]
    }
   ],
   "source": [
    "#If I ant to use global variabl inside function, I need to use keyword global\n",
    "a = 10\n",
    "\n",
    "def something():\n",
    "    global a\n",
    "    a = 15\n",
    "    print(\"Inside function:\", a)\n",
    "\n",
    "something()\n",
    "print(\"outside function: \", a)"
   ]
  },
  {
   "cell_type": "code",
   "execution_count": 5,
   "id": "3757f655-558a-49d2-8ff6-802fa9f6b229",
   "metadata": {},
   "outputs": [
    {
     "name": "stdout",
     "output_type": "stream",
     "text": [
      "Inside function: 15\n",
      "outside function:  9\n"
     ]
    }
   ],
   "source": [
    "#can we have same variable as global variable and local variable inside function, let's try it out\n",
    "a = 10\n",
    "\n",
    "def something():\n",
    "    global a\n",
    "    a = 15\n",
    "    print(\"Inside function:\", a)\n",
    "\n",
    "    a = 9\n",
    "\n",
    "something()\n",
    "print(\"outside function: \", a)"
   ]
  },
  {
   "cell_type": "markdown",
   "id": "356a2019-04fa-41d1-a71b-a6d8ea518092",
   "metadata": {},
   "source": [
    "No we can't use same variable as local and global variable inside same function, Then how to achieve it?\n",
    "\n",
    "For that we can use \"globals()\""
   ]
  },
  {
   "cell_type": "code",
   "execution_count": 7,
   "id": "0f432af5-3d23-4a5a-b5e7-82c1297ce693",
   "metadata": {},
   "outputs": [
    {
     "name": "stdout",
     "output_type": "stream",
     "text": [
      "140707085155032\n",
      "140707085155032\n",
      "Inside function: 9\n",
      "Outside functions: 15\n"
     ]
    }
   ],
   "source": [
    "a = 10\n",
    "print(id(a))\n",
    "def something():\n",
    "    a = 9\n",
    "    x = globals()['a']\n",
    "    print(id(x))\n",
    "    print(\"Inside function:\",a)\n",
    "\n",
    "    globals()['a']='15'\n",
    "\n",
    "something()\n",
    "print(\"Outside functions:\",a)"
   ]
  },
  {
   "cell_type": "markdown",
   "id": "77c5ff66-6326-426f-84d3-f51eb15e3a35",
   "metadata": {},
   "source": [
    "                                          PASS LIST TO FUNCTIONS"
   ]
  },
  {
   "cell_type": "code",
   "execution_count": 10,
   "id": "1af92d59-e72e-4584-92f5-38b61de110f6",
   "metadata": {},
   "outputs": [
    {
     "name": "stdout",
     "output_type": "stream",
     "text": [
      "Even : 6 and odd 3\n"
     ]
    }
   ],
   "source": [
    "# If there is a list of elements, pass that list in a function, that function will return you the number of even and odd numbers \n",
    "def count(list):\n",
    "    even = 0\n",
    "    odd = 0\n",
    "    for i in list:\n",
    "        if i%2==0:\n",
    "            even = even+1\n",
    "        else:\n",
    "            odd = odd+1\n",
    "    return even, odd\n",
    "\n",
    "\n",
    "list = [20,25,14,19,16,24,28,47,26]\n",
    "even, odd = count(list)\n",
    "print(\"Even : {} and odd {}\".format(even,odd))\n"
   ]
  },
  {
   "cell_type": "code",
   "execution_count": null,
   "id": "54624218-6448-4cde-a7de-cc11a5eec31f",
   "metadata": {},
   "outputs": [],
   "source": []
  }
 ],
 "metadata": {
  "kernelspec": {
   "display_name": "Python 3 (ipykernel)",
   "language": "python",
   "name": "python3"
  },
  "language_info": {
   "codemirror_mode": {
    "name": "ipython",
    "version": 3
   },
   "file_extension": ".py",
   "mimetype": "text/x-python",
   "name": "python",
   "nbconvert_exporter": "python",
   "pygments_lexer": "ipython3",
   "version": "3.12.4"
  }
 },
 "nbformat": 4,
 "nbformat_minor": 5
}
