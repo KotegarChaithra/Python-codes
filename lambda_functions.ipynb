{
 "cells": [
  {
   "cell_type": "markdown",
   "id": "e1f55c9e-406d-4d08-853e-8c186be4938c",
   "metadata": {},
   "source": [
    "                                    LAMBDA FUNCTION (ANNONYMOUS FUNCTION)"
   ]
  },
  {
   "cell_type": "markdown",
   "id": "37e72a50-8a72-4822-b3f1-27be07b3f49d",
   "metadata": {},
   "source": [
    "Function without name is anonymous or lambda function."
   ]
  },
  {
   "cell_type": "code",
   "execution_count": 2,
   "id": "7334258c-9d11-47c9-adf7-1ea2b28219be",
   "metadata": {},
   "outputs": [
    {
     "name": "stdout",
     "output_type": "stream",
     "text": [
      "25\n"
     ]
    }
   ],
   "source": [
    "def square(a):\n",
    "    return a*a\n",
    "\n",
    "result=square(5)\n",
    "print(result)"
   ]
  },
  {
   "cell_type": "markdown",
   "id": "bcf04455-6cf0-48a0-baff-40b7d0e177c0",
   "metadata": {},
   "source": [
    "If you see above function code it has only one expression like return a*a, but we are wasting 2 lines with def keyword and all. And also if we want to return a function in one line and if we are using that function one time then we can use the concept of lambda or anonymous function."
   ]
  },
  {
   "cell_type": "code",
   "execution_count": 3,
   "id": "538d6ee4-199b-4e02-9651-e70f8d0090cd",
   "metadata": {},
   "outputs": [
    {
     "name": "stdout",
     "output_type": "stream",
     "text": [
      "25\n"
     ]
    }
   ],
   "source": [
    "f = lambda a : a*a\n",
    "result = f(5)\n",
    "print(result)"
   ]
  },
  {
   "cell_type": "code",
   "execution_count": 5,
   "id": "82740d5f-1d95-4c1a-b49e-f8800b67be40",
   "metadata": {},
   "outputs": [
    {
     "name": "stdout",
     "output_type": "stream",
     "text": [
      "11\n"
     ]
    }
   ],
   "source": [
    "f = lambda a,b:a+b #functions is objects in python\n",
    "\n",
    "result = f(5,6)\n",
    "print(result)"
   ]
  },
  {
   "cell_type": "markdown",
   "id": "2920e42d-f2dc-4f80-ba49-434eb1c8f5ed",
   "metadata": {},
   "source": [
    "Where we can use lambda function\n",
    "<li>flter()\n",
    "<li>map()\n",
    "<li>reduce()"
   ]
  },
  {
   "cell_type": "code",
   "execution_count": 7,
   "id": "6a4d6fdb-2f7c-4514-b27e-8a6ce439978d",
   "metadata": {},
   "outputs": [
    {
     "name": "stdout",
     "output_type": "stream",
     "text": [
      "[2, 6, 8, 4, 6, 2]\n"
     ]
    }
   ],
   "source": [
    "def is_even(n):\n",
    "    return n%2==0\n",
    "\n",
    "nums = [3,2,6,8,4,6,2,9]\n",
    "evens = list(filter(is_even,nums))\n",
    "print(evens)"
   ]
  },
  {
   "cell_type": "markdown",
   "id": "1e84d226-63c6-4a06-af5d-3efffee17777",
   "metadata": {},
   "source": [
    "If we see above code contain 2 lines for function return only 1 expression hence in this case we can use lambda function."
   ]
  },
  {
   "cell_type": "code",
   "execution_count": 9,
   "id": "7f23b4fa-a406-444d-acbe-cf3b82670dbe",
   "metadata": {},
   "outputs": [
    {
     "name": "stdout",
     "output_type": "stream",
     "text": [
      "[2, 6, 8, 4, 6, 2]\n"
     ]
    }
   ],
   "source": [
    "nums = [3,2,6,8,4,6,2,9]\n",
    "evens = list(filter(lambda n:n%2==0,nums))\n",
    "print(evens)"
   ]
  },
  {
   "cell_type": "markdown",
   "id": "5c504798-76a6-4c9a-8abe-744f6f42a68f",
   "metadata": {},
   "source": [
    "Whatever even number we have , we have to make +2, if we want to change value we use map()"
   ]
  },
  {
   "cell_type": "code",
   "execution_count": 12,
   "id": "b2de3493-c971-4c7f-b445-446abf151c46",
   "metadata": {},
   "outputs": [
    {
     "name": "stdout",
     "output_type": "stream",
     "text": [
      "[2, 6, 8, 4, 6, 2]\n",
      "[4, 8, 10, 6, 8, 4]\n"
     ]
    }
   ],
   "source": [
    "def update(n):\n",
    "    return n+2\n",
    "    \n",
    "nums = [3,2,6,8,4,6,2,9]\n",
    "evens = list(filter(lambda n:n%2==0,nums))\n",
    "\n",
    "doubles = list(map(update,evens))\n",
    "print(evens)\n",
    "print(doubles)"
   ]
  },
  {
   "cell_type": "code",
   "execution_count": 13,
   "id": "08506c85-b3a9-4673-b1da-23d44d2a15a0",
   "metadata": {},
   "outputs": [
    {
     "name": "stdout",
     "output_type": "stream",
     "text": [
      "[2, 6, 8, 4, 6, 2]\n",
      "[4, 8, 10, 6, 8, 4]\n"
     ]
    }
   ],
   "source": [
    "nums = [3,2,6,8,4,6,2,9]\n",
    "evens = list(filter(lambda n:n%2==0,nums))\n",
    "\n",
    "doubles = list(map(lambda n : n+2,evens))\n",
    "print(evens)\n",
    "print(doubles)"
   ]
  },
  {
   "cell_type": "markdown",
   "id": "931bc743-f5c3-42c7-9934-05157636f9d3",
   "metadata": {},
   "source": [
    "Want to sum all the values 4+8+10+6+8+4, at a time we can add 2 values 4+8 = 12, then 12+10=32 etc..\n",
    "\n",
    "here comes the concept of reduce()"
   ]
  },
  {
   "cell_type": "code",
   "execution_count": 17,
   "id": "5c55b207-7f75-4a85-ba8b-c134d6f8f939",
   "metadata": {},
   "outputs": [
    {
     "name": "stdout",
     "output_type": "stream",
     "text": [
      "[2, 6, 8, 4, 6, 2]\n",
      "[4, 8, 10, 6, 8, 4]\n",
      "40\n"
     ]
    }
   ],
   "source": [
    "from functools import reduce\n",
    "\n",
    "def add_all(a,b):\n",
    "    return a+b\n",
    "    \n",
    "nums = [3,2,6,8,4,6,2,9]\n",
    "evens = list(filter(lambda n:n%2==0,nums))\n",
    "\n",
    "doubles = list(map(lambda n : n+2,evens))\n",
    "\n",
    "sum = reduce(add_all,doubles)\n",
    "\n",
    "print(evens)\n",
    "print(doubles)\n",
    "print(sum)"
   ]
  },
  {
   "cell_type": "code",
   "execution_count": 19,
   "id": "e760c753-06ad-493b-9cc4-e96e91178b4c",
   "metadata": {},
   "outputs": [
    {
     "name": "stdout",
     "output_type": "stream",
     "text": [
      "[2, 6, 8, 4, 6, 2]\n",
      "[4, 12, 16, 8, 12, 4]\n",
      "56\n"
     ]
    }
   ],
   "source": [
    "from functools import reduce\n",
    "\n",
    "def add_all(a,b):\n",
    "    return a+b\n",
    "    \n",
    "nums = [3,2,6,8,4,6,2,9]\n",
    "evens = list(filter(lambda n:n%2==0,nums))\n",
    "\n",
    "doubles = list(map(lambda n : n*2,evens))\n",
    "\n",
    "sum = reduce(lambda a,b : a+b,doubles)\n",
    "\n",
    "print(evens)\n",
    "print(doubles)\n",
    "print(sum)"
   ]
  },
  {
   "cell_type": "code",
   "execution_count": null,
   "id": "ca9f8b65-8e39-43e4-8dc3-408faae0aa06",
   "metadata": {},
   "outputs": [],
   "source": []
  }
 ],
 "metadata": {
  "kernelspec": {
   "display_name": "Python 3 (ipykernel)",
   "language": "python",
   "name": "python3"
  },
  "language_info": {
   "codemirror_mode": {
    "name": "ipython",
    "version": 3
   },
   "file_extension": ".py",
   "mimetype": "text/x-python",
   "name": "python",
   "nbconvert_exporter": "python",
   "pygments_lexer": "ipython3",
   "version": "3.12.4"
  }
 },
 "nbformat": 4,
 "nbformat_minor": 5
}
