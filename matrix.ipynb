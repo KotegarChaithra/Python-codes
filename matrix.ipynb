{
 "cells": [
  {
   "cell_type": "markdown",
   "id": "ed1cf3a6-dddf-4dcd-ab36-4bc97e30c8ac",
   "metadata": {},
   "source": [
    "                                                          MULTI DIMENSIONAL ARRAY"
   ]
  },
  {
   "cell_type": "code",
   "execution_count": 2,
   "id": "d71fbe07-a094-42a3-9e37-b91e88436777",
   "metadata": {},
   "outputs": [],
   "source": [
    "from numpy import *"
   ]
  },
  {
   "cell_type": "code",
   "execution_count": 3,
   "id": "81de7af5-f156-4977-929a-b7dca1c86f16",
   "metadata": {},
   "outputs": [
    {
     "name": "stdout",
     "output_type": "stream",
     "text": [
      "[[1 2 3]\n",
      " [4 5 6]]\n",
      "int64\n",
      "2\n",
      "(2, 3)\n",
      "6\n"
     ]
    }
   ],
   "source": [
    "#Inside one array have 2 array\n",
    "arr = array([\n",
    "    [1,2,3],\n",
    "    [4,5,6]\n",
    "])#2 dimensional array creation\n",
    "print(arr)\n",
    "print(arr.dtype)\n",
    "print(arr.ndim)#no of dimension\n",
    "print(arr.shape) # no of rows and column\n",
    "print(arr.size)"
   ]
  },
  {
   "cell_type": "code",
   "execution_count": 7,
   "id": "aa930afc-0a1e-4b1e-9f08-db387aa62ff4",
   "metadata": {},
   "outputs": [
    {
     "name": "stdout",
     "output_type": "stream",
     "text": [
      "Array before converting:\n",
      " [[1 2 3]\n",
      " [4 5 6]]\n",
      "Array after converting:\n",
      " [1 2 3 4 5 6]\n"
     ]
    }
   ],
   "source": [
    "#Inside one array have 2 array\n",
    "arr = array([\n",
    "    [1,2,3],\n",
    "    [4,5,6]\n",
    "])#2 dimensional array creation\n",
    "print('Array before converting:\\n',arr)\n",
    "## arr1 is 3 dimensional array convert into 1 dimensional array\n",
    "arr2=arr.flatten() # flatten() function will make2 dimensional array to 1 dimensional\n",
    "print('Array after converting:\\n',arr2)\n"
   ]
  },
  {
   "cell_type": "code",
   "execution_count": 10,
   "id": "d447b767-8f4c-4e2d-8b37-69aa3ab06b8d",
   "metadata": {},
   "outputs": [
    {
     "name": "stdout",
     "output_type": "stream",
     "text": [
      "Two dimensional Array:\n",
      " [[1 2 3 6 2 9]\n",
      " [4 5 6 7 5 3]]\n",
      "After converting to One dimensional Array:\n",
      " [1 2 3 6 2 9 4 5 6 7 5 3]\n",
      "After converting one dimensional array to 2 dimensional array:\n",
      " [[1 2 3 6]\n",
      " [2 9 4 5]\n",
      " [6 7 5 3]]\n"
     ]
    }
   ],
   "source": [
    "#converting single dimensional to multi-dimensional\n",
    "#Inside one array have 2 array\n",
    "arr1 = array([\n",
    "    [1,2,3,6,2,9],\n",
    "    [4,5,6,7,5,3]\n",
    "])#2 dimensional array creation\n",
    "print(\"Two dimensional Array:\\n\",arr1)\n",
    "arr2 = arr1.flatten() # flatten() function will make2 dimensional array to 1 dimensional\n",
    "print(\"After converting to One dimensional Array:\\n\",arr2)\n",
    "arr3=arr2.reshape(3,4) #reshape conerts one dimensional array to 2 dimensional array, reshape(no of rows, no of columns)\n",
    "print(\"After converting one dimensional array to 2 dimensional array:\\n\",arr3)\n"
   ]
  },
  {
   "cell_type": "code",
   "execution_count": 11,
   "id": "dad291be-2eac-4ec1-b065-001deafadcc5",
   "metadata": {},
   "outputs": [
    {
     "name": "stdout",
     "output_type": "stream",
     "text": [
      "Two dimensional Array:\n",
      " [[1 2 3 6 2 9]\n",
      " [4 5 6 7 5 3]]\n",
      "After converting to One dimensional Array:\n",
      " [1 2 3 6 2 9 4 5 6 7 5 3]\n",
      "After converting one dimensional array to three dimensional array:\n",
      " [[[1 2 3]\n",
      "  [6 2 9]]\n",
      "\n",
      " [[4 5 6]\n",
      "  [7 5 3]]]\n"
     ]
    }
   ],
   "source": [
    "#what if we have big array, in which we have 2D array : Create 3D array\n",
    "#Inside one array have 2 array\n",
    "arr1 = array([\n",
    "    [1,2,3,6,2,9],\n",
    "    [4,5,6,7,5,3]\n",
    "])#2 dimensional array creation\n",
    "print(\"Two dimensional Array:\\n\",arr1)\n",
    "arr2 = arr1.flatten() # flatten() function will make2 dimensional array to 1 dimensional\n",
    "print(\"After converting to One dimensional Array:\\n\",arr2)\n",
    "arr3=arr2.reshape(2,2,3)# reshape(2 Two dimensional array, 2 single dimensional array,Thre values)  \n",
    "print(\"After converting one dimensional array to three dimensional array:\\n\",arr3)"
   ]
  },
  {
   "cell_type": "code",
   "execution_count": 17,
   "id": "689a9856-0ea5-4e08-a3dc-01a355b5a398",
   "metadata": {},
   "outputs": [
    {
     "name": "stdout",
     "output_type": "stream",
     "text": [
      "Two dimensional Array:\n",
      " [[1 2 3 6]\n",
      " [4 5 6 7]]\n",
      "m also contain same array that we created :\n",
      " [[1 2 3 6]\n",
      " [4 5 6 7]]\n"
     ]
    }
   ],
   "source": [
    "#Mathematics\n",
    "arr1 = array([\n",
    "    [1,2,3,6],\n",
    "    [4,5,6,7]\n",
    "])#Tow dimensional array creation\n",
    "print(\"Two dimensional Array:\\n\",arr1)\n",
    "m = matrix(arr1)\n",
    "print('m also contain same array that we created :\\n',m) #This 'm' is used for different matrix operation"
   ]
  },
  {
   "cell_type": "code",
   "execution_count": 19,
   "id": "e6032330-512c-4dfd-b100-2b4ea8792aba",
   "metadata": {},
   "outputs": [
    {
     "name": "stdout",
     "output_type": "stream",
     "text": [
      "[[1 2 3 6]\n",
      " [4 5 6 7]]\n"
     ]
    }
   ],
   "source": [
    "#Another way of creating matrics array\n",
    "m=matrix('1 2 3 6 ; 4 5 6 7') # 2 rows 2 columns here\n",
    "print(m) # if the input given by user , matrix() function will create the array"
   ]
  },
  {
   "cell_type": "code",
   "execution_count": 20,
   "id": "d606a510-4470-414e-96b6-4df9086195f7",
   "metadata": {},
   "outputs": [
    {
     "name": "stdout",
     "output_type": "stream",
     "text": [
      "[[1 2]\n",
      " [3 6]\n",
      " [4 5]\n",
      " [6 7]]\n"
     ]
    }
   ],
   "source": [
    "m=matrix('1 2 ; 3 6 ; 4 5 ; 6 7') # 4 rows 2 columns here\n",
    "print(m) # if the input given by user , matrix() function will create the array"
   ]
  },
  {
   "cell_type": "code",
   "execution_count": 24,
   "id": "42c61247-8ead-4849-9896-dcc14427a119",
   "metadata": {},
   "outputs": [
    {
     "name": "stdout",
     "output_type": "stream",
     "text": [
      "Printing Array:\n",
      " [[1 2 3]\n",
      " [6 4 5]\n",
      " [1 6 7]]\n",
      "Printing diagonal element:\n",
      " [1 4 7]\n"
     ]
    }
   ],
   "source": [
    "m=matrix('1 2 3 ; 6 4 5 ; 1 6 7') # 2 rows 2 columns here\n",
    "print('Printing Array:\\n',m) # if the input given by user , matrix() function will create the array\n",
    "\n",
    "# what if I want toprint only diagonal elements\n",
    "print('Printing diagonal element:\\n',diagonal(m))"
   ]
  },
  {
   "cell_type": "code",
   "execution_count": 26,
   "id": "0402b9ab-a6b7-4f1c-80e8-a9bd7a6094ef",
   "metadata": {},
   "outputs": [
    {
     "name": "stdout",
     "output_type": "stream",
     "text": [
      "Printing Array:\n",
      " [[1 2 3]\n",
      " [6 4 5]\n",
      " [1 6 7]]\n",
      "Minimum value inside matrix:\n",
      " 1\n"
     ]
    }
   ],
   "source": [
    "#what if I want to run a minimum element from matrix\n",
    "m=matrix('1 2 3 ; 6 4 5 ; 1 6 7') # 2 rows 2 columns here\n",
    "print('Printing Array:\\n',m) # if the input given by user , matrix() function will create the array\n",
    "print('Minimum value inside matrix:\\n',m.min())"
   ]
  },
  {
   "cell_type": "code",
   "execution_count": 28,
   "id": "bad552b9-74d1-4b26-8349-05d52b3ad820",
   "metadata": {},
   "outputs": [
    {
     "name": "stdout",
     "output_type": "stream",
     "text": [
      "Printing Array:\n",
      " [[1 2 3]\n",
      " [6 4 5]\n",
      " [1 6 7]]\n",
      "Maximum value inside matrix:\n",
      " 7\n"
     ]
    }
   ],
   "source": [
    "#what if I want to run a maximum element from matrix\n",
    "m=matrix('1 2 3 ; 6 4 5 ; 1 6 7') # 2 rows 2 columns here\n",
    "print('Printing Array:\\n',m) # if the input given by user , matrix() function will create the array\n",
    "print('Maximum value inside matrix:\\n',m.max())"
   ]
  },
  {
   "cell_type": "code",
   "execution_count": 29,
   "id": "4d81e846-dfa8-4695-a4a9-1942cd7a63ef",
   "metadata": {},
   "outputs": [
    {
     "name": "stdout",
     "output_type": "stream",
     "text": [
      "First matrix:\n",
      " [[1 2 3]\n",
      " [6 4 5]\n",
      " [1 6 7]]\n",
      "Second matrix:\n",
      " [[1 2 3]\n",
      " [6 8 5]\n",
      " [2 6 7]]\n",
      "Addition of 2 matrices:\n",
      " [[ 2  4  6]\n",
      " [12 12 10]\n",
      " [ 3 12 14]]\n"
     ]
    }
   ],
   "source": [
    "#Adding matrix\n",
    "m1=matrix('1 2 3 ; 6 4 5 ; 1 6 7')\n",
    "print('First matrix:\\n',m1) \n",
    "m2=matrix('1 2 3 ; 6 8 5 ; 2 6 7')\n",
    "print('Second matrix:\\n',m2) \n",
    "m3=m1+m2\n",
    "print('Addition of 2 matrices:\\n',m3)"
   ]
  },
  {
   "cell_type": "code",
   "execution_count": 30,
   "id": "773f02b9-3f45-42b0-8893-92ddcced3da4",
   "metadata": {},
   "outputs": [
    {
     "name": "stdout",
     "output_type": "stream",
     "text": [
      "First matrix:\n",
      " [[1 2 3]\n",
      " [6 4 5]\n",
      " [1 6 7]]\n",
      "Second matrix:\n",
      " [[1 2 3]\n",
      " [6 8 5]\n",
      " [2 6 7]]\n",
      "Mltiplication of 2 matrices:\n",
      " [[19 36 34]\n",
      " [40 74 73]\n",
      " [51 92 82]]\n"
     ]
    }
   ],
   "source": [
    "#Multipling matrix\n",
    "m1=matrix('1 2 3 ; 6 4 5 ; 1 6 7')\n",
    "print('First matrix:\\n',m1) \n",
    "m2=matrix('1 2 3 ; 6 8 5 ; 2 6 7')\n",
    "print('Second matrix:\\n',m2) \n",
    "m3=m1 * m2\n",
    "print('Mltiplication of 2 matrices:\\n',m3)"
   ]
  },
  {
   "cell_type": "code",
   "execution_count": null,
   "id": "b6ac663a-e18c-4ad2-9492-bf0dc9eacc65",
   "metadata": {},
   "outputs": [],
   "source": []
  }
 ],
 "metadata": {
  "kernelspec": {
   "display_name": "Python 3 (ipykernel)",
   "language": "python",
   "name": "python3"
  },
  "language_info": {
   "codemirror_mode": {
    "name": "ipython",
    "version": 3
   },
   "file_extension": ".py",
   "mimetype": "text/x-python",
   "name": "python",
   "nbconvert_exporter": "python",
   "pygments_lexer": "ipython3",
   "version": "3.12.4"
  }
 },
 "nbformat": 4,
 "nbformat_minor": 5
}
