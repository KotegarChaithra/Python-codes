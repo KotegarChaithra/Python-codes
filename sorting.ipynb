{
 "cells": [
  {
   "cell_type": "code",
   "execution_count": 7,
   "id": "cb14452e-21ab-46e7-bda1-126a873abbb6",
   "metadata": {},
   "outputs": [
    {
     "name": "stdout",
     "output_type": "stream",
     "text": [
      "[2, 3, 5, 6, 7, 8]\n"
     ]
    }
   ],
   "source": [
    "#bubble sort\n",
    "def sort(nums):\n",
    "    for i in range(len(nums)-1,0,-1):\n",
    "        for j in range(i):\n",
    "            if nums[j]>nums[j+1]:\n",
    "                temp = nums[j]\n",
    "                nums[j] = nums[j+1]\n",
    "                nums[j+1] = temp \n",
    "\n",
    "nums = [5,3,8,6,7,2]\n",
    "sort(nums)\n",
    "\n",
    "print(nums)"
   ]
  },
  {
   "cell_type": "code",
   "execution_count": 11,
   "id": "7fbd2452-d94e-4700-9cec-31ef441b533c",
   "metadata": {},
   "outputs": [
    {
     "name": "stdout",
     "output_type": "stream",
     "text": [
      "[3, 5, 8, 6, 7, 2]\n",
      "[3, 8, 5, 6, 7, 2]\n",
      "[3, 8, 6, 5, 7, 2]\n",
      "[3, 8, 6, 7, 5, 2]\n",
      "[3, 8, 6, 7, 2, 5]\n"
     ]
    }
   ],
   "source": [
    "#selection sort\n",
    "def sort(nums):\n",
    "    for i in range(5):\n",
    "        minpos = i\n",
    "        for j in range(i,6):\n",
    "            if nums[j] < nums[minpos]:\n",
    "                minpos = j\n",
    "\n",
    "        temp = nums[i]\n",
    "        nums[i]=nums[i+1]\n",
    "        nums[i+1]=temp\n",
    "\n",
    "        print(nums)\n",
    "            \n",
    "\n",
    "nums = [5,3,8,6,7,2]\n",
    "sort(nums)\n",
    "\n",
    "#print(nums)"
   ]
  },
  {
   "cell_type": "code",
   "execution_count": null,
   "id": "b46ffbad-2d0e-455a-a86b-23f4ce29b22d",
   "metadata": {},
   "outputs": [],
   "source": []
  }
 ],
 "metadata": {
  "kernelspec": {
   "display_name": "Python 3 (ipykernel)",
   "language": "python",
   "name": "python3"
  },
  "language_info": {
   "codemirror_mode": {
    "name": "ipython",
    "version": 3
   },
   "file_extension": ".py",
   "mimetype": "text/x-python",
   "name": "python",
   "nbconvert_exporter": "python",
   "pygments_lexer": "ipython3",
   "version": "3.12.4"
  }
 },
 "nbformat": 4,
 "nbformat_minor": 5
}
