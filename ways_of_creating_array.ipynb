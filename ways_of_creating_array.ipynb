{
 "cells": [
  {
   "cell_type": "markdown",
   "id": "55462e46-de84-43d6-bb1d-b69fb9d2e8dc",
   "metadata": {},
   "source": [
    "                                                       NUMPY"
   ]
  },
  {
   "cell_type": "markdown",
   "id": "ee57948b-31c1-4dcf-892e-9863dfd19943",
   "metadata": {},
   "source": [
    "6 ways of creating arrays \n",
    "<li>array()\n",
    "<li>linespace()\n",
    "<li>logspace()\n",
    "<li>arange()\n",
    "<li>zeros()\n",
    "<li>ones()"
   ]
  },
  {
   "cell_type": "markdown",
   "id": "ce908e3c-cfea-48ff-9766-8f0ec76a36b4",
   "metadata": {},
   "source": [
    "_______________________________________________________________________________________________________________________________"
   ]
  },
  {
   "cell_type": "markdown",
   "id": "03562269-f7f5-4a29-b8ba-0bcd9c5bdc71",
   "metadata": {},
   "source": [
    "<li>array()"
   ]
  },
  {
   "cell_type": "code",
   "execution_count": 24,
   "id": "614031d0-ce53-4a21-aa83-dc8197c0b72f",
   "metadata": {},
   "outputs": [],
   "source": [
    "from numpy import *"
   ]
  },
  {
   "cell_type": "code",
   "execution_count": 25,
   "id": "ee6051be-cabf-454b-a06c-b9fed8a13fd9",
   "metadata": {},
   "outputs": [
    {
     "name": "stdout",
     "output_type": "stream",
     "text": [
      "[2 4 6 7 8]\n"
     ]
    }
   ],
   "source": [
    "arr = array([2,4,6,7,8])\n",
    "print(arr)"
   ]
  },
  {
   "cell_type": "code",
   "execution_count": 26,
   "id": "0a2b2518-73c0-488a-90b1-f0abcff9572f",
   "metadata": {},
   "outputs": [
    {
     "name": "stdout",
     "output_type": "stream",
     "text": [
      "int64\n",
      "[2 4 6 7 8]\n"
     ]
    }
   ],
   "source": [
    "arr = array([2,4,6,7,8])\n",
    "print(arr.dtype) # getting type of array\n",
    "print(arr)"
   ]
  },
  {
   "cell_type": "code",
   "execution_count": 27,
   "id": "b66545e1-b1f7-47ee-89fd-2e46e2b62ff8",
   "metadata": {},
   "outputs": [
    {
     "name": "stdout",
     "output_type": "stream",
     "text": [
      "array('i', [2, 4, 6, 7, 8])\n"
     ]
    }
   ],
   "source": [
    "from array import *\n",
    "\n",
    "#you can also create array like this \n",
    "arr = array('i',[2,4,6,7,8])\n",
    "print(arr)"
   ]
  },
  {
   "cell_type": "code",
   "execution_count": 28,
   "id": "852ad00e-8a41-4f8c-906c-7098215bf0fb",
   "metadata": {},
   "outputs": [
    {
     "name": "stdout",
     "output_type": "stream",
     "text": [
      "int64\n",
      "[2 4 6 7 8]\n"
     ]
    }
   ],
   "source": [
    "# another way of creating array\n",
    "from numpy import *\n",
    "arr = array([2,4,6,7,8],int) # we also create like this by giving datatype\n",
    "print(arr.dtype)\n",
    "print(arr)"
   ]
  },
  {
   "cell_type": "markdown",
   "id": "d0c9f99c-921f-4c75-81eb-40477d5bd7d9",
   "metadata": {},
   "source": [
    "_______________________________________________________________________________________________________________________________"
   ]
  },
  {
   "cell_type": "markdown",
   "id": "9859ecc8-23d3-4dca-a3cb-76057afa15fe",
   "metadata": {},
   "source": [
    "<li> linspace() : here when compared to logspace() gap between 2 elements are fixed"
   ]
  },
  {
   "cell_type": "code",
   "execution_count": 33,
   "id": "f1455a24-4857-45b9-be16-9f0cd0eb2b4e",
   "metadata": {},
   "outputs": [
    {
     "name": "stdout",
     "output_type": "stream",
     "text": [
      "[ 0.  1.  2.  3.  4.  5.  6.  7.  8.  9. 10. 11. 12. 13. 14. 15.]\n"
     ]
    }
   ],
   "source": [
    "# way of creating array using linespace() function\n",
    "from numpy import *\n",
    "#linspace(start,end(inculded),no of parts)\n",
    "arr = linspace(0,15,16)\n",
    "print(arr)"
   ]
  },
  {
   "cell_type": "code",
   "execution_count": 34,
   "id": "fec74522-c621-42bb-8de2-de81407ec56b",
   "metadata": {},
   "outputs": [
    {
     "name": "stdout",
     "output_type": "stream",
     "text": [
      "[ 0.          0.78947368  1.57894737  2.36842105  3.15789474  3.94736842\n",
      "  4.73684211  5.52631579  6.31578947  7.10526316  7.89473684  8.68421053\n",
      "  9.47368421 10.26315789 11.05263158 11.84210526 12.63157895 13.42105263\n",
      " 14.21052632 15.        ]\n"
     ]
    }
   ],
   "source": [
    "arr = linspace(0,15,20) # it will part values into 20\n",
    "print(arr)"
   ]
  },
  {
   "cell_type": "code",
   "execution_count": 35,
   "id": "04662f9c-801d-4135-b492-3864ab67941f",
   "metadata": {},
   "outputs": [
    {
     "name": "stdout",
     "output_type": "stream",
     "text": [
      "[ 0.          0.30612245  0.6122449   0.91836735  1.2244898   1.53061224\n",
      "  1.83673469  2.14285714  2.44897959  2.75510204  3.06122449  3.36734694\n",
      "  3.67346939  3.97959184  4.28571429  4.59183673  4.89795918  5.20408163\n",
      "  5.51020408  5.81632653  6.12244898  6.42857143  6.73469388  7.04081633\n",
      "  7.34693878  7.65306122  7.95918367  8.26530612  8.57142857  8.87755102\n",
      "  9.18367347  9.48979592  9.79591837 10.10204082 10.40816327 10.71428571\n",
      " 11.02040816 11.32653061 11.63265306 11.93877551 12.24489796 12.55102041\n",
      " 12.85714286 13.16326531 13.46938776 13.7755102  14.08163265 14.3877551\n",
      " 14.69387755 15.        ]\n"
     ]
    }
   ],
   "source": [
    "#if you don't specify the parts , no of parst would be 50\n",
    "arr = linspace(0,15)\n",
    "print(arr)"
   ]
  },
  {
   "cell_type": "markdown",
   "id": "4639b7cb-d38c-4de5-a5e1-2562e0f7e190",
   "metadata": {},
   "source": [
    "_______________________________________________________________________________________________________________________________"
   ]
  },
  {
   "cell_type": "markdown",
   "id": "facb3762-7263-42db-826d-30d828b80e4d",
   "metadata": {},
   "source": [
    "<li> arange()"
   ]
  },
  {
   "cell_type": "code",
   "execution_count": 38,
   "id": "d42d1b3b-41fa-49b8-bb9e-358e368d14f7",
   "metadata": {},
   "outputs": [
    {
     "name": "stdout",
     "output_type": "stream",
     "text": [
      "[ 1  3  5  7  9 11 13]\n"
     ]
    }
   ],
   "source": [
    "# way of creating array using arange() function\n",
    "from numpy import *\n",
    "# arange(start,end(excluded last one),steps to skip the number)\n",
    "arr = arange(1,15,2)\n",
    "print(arr)"
   ]
  },
  {
   "cell_type": "markdown",
   "id": "08e70657-9771-4a58-80e8-c32ed09a3b54",
   "metadata": {},
   "source": [
    "_______________________________________________________________________________________________________________________________"
   ]
  },
  {
   "cell_type": "markdown",
   "id": "ad0ad8b5-9a12-4d7d-9af1-a729cd679982",
   "metadata": {},
   "source": [
    "<li> logspace() : here when compared to linspace() , spacing would be log of it "
   ]
  },
  {
   "cell_type": "code",
   "execution_count": 40,
   "id": "6f7e02a9-4ce4-49cd-bbab-6d311a2a34a2",
   "metadata": {},
   "outputs": [
    {
     "name": "stdout",
     "output_type": "stream",
     "text": [
      "[1.00000000e+01 5.62341325e+10 3.16227766e+20 1.77827941e+30\n",
      " 1.00000000e+40]\n"
     ]
    }
   ],
   "source": [
    "# way of creating array using logspace() function\n",
    "from numpy import *\n",
    "#logspace(start,end,5 parts)\n",
    "arr = logspace(1,40,5)\n",
    "print(arr)"
   ]
  },
  {
   "cell_type": "code",
   "execution_count": 43,
   "id": "9bb28482-f3bd-470f-8955-d050bef3ba3c",
   "metadata": {},
   "outputs": [
    {
     "name": "stdout",
     "output_type": "stream",
     "text": [
      "10.0\n",
      "1e+40\n",
      "10000000000000000303786028427003666890752.00\n"
     ]
    }
   ],
   "source": [
    "arr = logspace(1,40,5)\n",
    "#showing all below print statements how the value could be display\n",
    "print(arr[0])\n",
    "print(arr[4])\n",
    "print('%.2f' %arr[4])"
   ]
  },
  {
   "cell_type": "markdown",
   "id": "ac9dd654-75b8-47e9-ad2b-a0d8032ba1a7",
   "metadata": {},
   "source": [
    "______________________________________________________________________________________________________________________________"
   ]
  },
  {
   "cell_type": "markdown",
   "id": "ab44f123-b516-4c14-a5a2-f1d8b64c21c8",
   "metadata": {},
   "source": [
    "<li> zeros() : if you ant to create an array of size 10, all the values by default would be zero"
   ]
  },
  {
   "cell_type": "code",
   "execution_count": 45,
   "id": "7f2088be-5785-41cb-80bd-1997f1783262",
   "metadata": {},
   "outputs": [
    {
     "name": "stdout",
     "output_type": "stream",
     "text": [
      "[0. 0. 0. 0. 0.]\n"
     ]
    }
   ],
   "source": [
    "from numpy import *\n",
    "arr = zeros(5)\n",
    "print(arr)  # float value"
   ]
  },
  {
   "cell_type": "code",
   "execution_count": 46,
   "id": "64624243-4e3f-4f65-b4a5-6f352de3f3f3",
   "metadata": {},
   "outputs": [
    {
     "name": "stdout",
     "output_type": "stream",
     "text": [
      "[0 0 0 0 0]\n"
     ]
    }
   ],
   "source": [
    "#to get the output in iteger format\n",
    "arr = zeros(5, int)\n",
    "print(arr)  # integer value"
   ]
  },
  {
   "cell_type": "markdown",
   "id": "a973cf3d-1901-49c5-a42c-3542fe819ad8",
   "metadata": {},
   "source": [
    "________________________________________________________________________________________________________________________________"
   ]
  },
  {
   "cell_type": "markdown",
   "id": "31bda894-55d2-42ea-841e-0c983463acb4",
   "metadata": {},
   "source": [
    "<li> ones() : : if you ant to create an array of size 10, all the values by default would be one"
   ]
  },
  {
   "cell_type": "code",
   "execution_count": 47,
   "id": "9e52875d-5303-4973-a20b-fbfe0a942855",
   "metadata": {},
   "outputs": [
    {
     "name": "stdout",
     "output_type": "stream",
     "text": [
      "[1. 1. 1. 1. 1.]\n"
     ]
    }
   ],
   "source": [
    "from numpy import *\n",
    "arr = ones(5)\n",
    "print(arr)  # float value"
   ]
  },
  {
   "cell_type": "code",
   "execution_count": 48,
   "id": "3b3f8e72-af37-4f7b-a9b1-79a98e753fa3",
   "metadata": {},
   "outputs": [
    {
     "name": "stdout",
     "output_type": "stream",
     "text": [
      "[1 1 1 1 1]\n"
     ]
    }
   ],
   "source": [
    "#to get the output in iteger format\n",
    "arr = ones(5, int)\n",
    "print(arr)  # integer value"
   ]
  },
  {
   "cell_type": "code",
   "execution_count": null,
   "id": "62bd8868-4ab2-469d-8668-03d984da89dd",
   "metadata": {},
   "outputs": [],
   "source": []
  }
 ],
 "metadata": {
  "kernelspec": {
   "display_name": "Python 3 (ipykernel)",
   "language": "python",
   "name": "python3"
  },
  "language_info": {
   "codemirror_mode": {
    "name": "ipython",
    "version": 3
   },
   "file_extension": ".py",
   "mimetype": "text/x-python",
   "name": "python",
   "nbconvert_exporter": "python",
   "pygments_lexer": "ipython3",
   "version": "3.12.4"
  }
 },
 "nbformat": 4,
 "nbformat_minor": 5
}
